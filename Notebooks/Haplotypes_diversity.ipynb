{
 "cells": [
  {
   "cell_type": "markdown",
   "id": "67038e0a-e275-43c8-84d9-5b528c403d6d",
   "metadata": {},
   "source": [
    "# Computing haplotype statistic and linkage disequilibrium #"
   ]
  },
  {
   "cell_type": "markdown",
   "id": "4c2609f1-56ba-40a5-8d5e-3f3426d3b1e0",
   "metadata": {},
   "source": [
    "## Importing necessary modules for the analyzes ######"
   ]
  },
  {
   "cell_type": "code",
   "execution_count": 1,
   "id": "6cfe302a-9b38-4d04-a453-83b717df4dd1",
   "metadata": {},
   "outputs": [],
   "source": [
    "from collections import Counter\n",
    "from functools import lru_cache\n",
    "import numpy as np\n",
    "import pandas as pd\n",
    "import h5py\n",
    "import dask\n",
    "import dask.array as da\n",
    "# silence some dask warnings\n",
    "dask.config.set(**{'array.slicing.split_large_chunks': True})\n",
    "import allel\n",
    "from dask.diagnostics.progress import ProgressBar\n",
    "import malariagen_data\n",
    "import petl as ptl\n",
    "#ld r**2\n",
    "import scipy\n",
    "from scipy.spatial.distance import pdist, squareform"
   ]
  },
  {
   "cell_type": "code",
   "execution_count": 2,
   "id": "7dc7c007-154d-4e07-95ce-d6ba459f8699",
   "metadata": {},
   "outputs": [
    {
     "name": "stdout",
     "output_type": "stream",
     "text": [
      "\u001b[35mTo test the printing style\n",
      "\u001b[0m\n"
     ]
    }
   ],
   "source": [
    "# Print style \n",
    "from colorama import Fore, Back, Style\n",
    "print(Fore.MAGENTA + 'To test the printing style')\n",
    "print(Style.RESET_ALL) #to reset the printing style"
   ]
  },
  {
   "cell_type": "code",
   "execution_count": 3,
   "id": "07388465-1534-4e30-9890-e91bb2c917d3",
   "metadata": {},
   "outputs": [
    {
     "name": "stderr",
     "output_type": "stream",
     "text": [
      "/tmp/ipykernel_4796/1673092961.py:25: MatplotlibDeprecationWarning: \n",
      "The savefig.jpeg_quality rcparam was deprecated in Matplotlib 3.3 and will be removed two minor releases later.\n",
      "  rcParams['savefig.jpeg_quality'] = 100\n"
     ]
    }
   ],
   "source": [
    "# plotting setup\n",
    "import matplotlib as mpl\n",
    "import matplotlib.pyplot as plt\n",
    "from matplotlib.colors import ListedColormap\n",
    "from matplotlib.gridspec import GridSpec\n",
    "import matplotlib_venn as venn\n",
    "import seaborn as sns\n",
    "\n",
    "sns.set_context('paper')\n",
    "sns.set_style('white')\n",
    "sns.set_style('ticks')\n",
    "rcParams = plt.rcParams\n",
    "base_font_size = 7\n",
    "rcParams['font.size'] = base_font_size\n",
    "rcParams['axes.titlesize'] = base_font_size\n",
    "rcParams['axes.labelsize'] = base_font_size\n",
    "rcParams['xtick.labelsize'] = base_font_size\n",
    "rcParams['ytick.labelsize'] = base_font_size\n",
    "rcParams['legend.fontsize'] = base_font_size\n",
    "rcParams['axes.linewidth'] = .5\n",
    "rcParams['lines.linewidth'] = .5\n",
    "rcParams['patch.linewidth'] = .5\n",
    "rcParams['ytick.direction'] = 'out'\n",
    "rcParams['xtick.direction'] = 'out'\n",
    "rcParams['savefig.jpeg_quality'] = 100\n",
    "rcParams['lines.markeredgewidth'] = .5\n",
    "rcParams['figure.max_open_warning'] = 1000\n",
    "rcParams['figure.dpi'] = 120\n",
    "rcParams['figure.facecolor'] = 'w'"
   ]
  },
  {
   "cell_type": "markdown",
   "id": "e7ea6bc7-3163-4032-9887-9ed7926baa6d",
   "metadata": {},
   "source": [
    "## Importing malariagen data set\n",
    "Importing malariagen data set   \n",
    "Selecting and defining the samples metadata   \n",
    "Acces to the haplotypes, phased samples    \n",
    "Let's define the genome region where to locate the SNP, # The AGAP000080 gene is located in the X chromosomes in the region ranging from 1283016 to 1373662 "
   ]
  },
  {
   "cell_type": "code",
   "execution_count": 4,
   "id": "cb94ea38-bd98-4b88-bf95-8efc48eaf683",
   "metadata": {},
   "outputs": [],
   "source": [
    "## Importing malariagen data set\n",
    "ag3 = malariagen_data.Ag3(\"gs://vo_agam_release/\")\n",
    "\n",
    "## Selecting and defining the samples metadata\n",
    "## Selecting and defining the samples metadata\n",
    "sets = ['AG1000G-AO', 'AG1000G-BF-A', 'AG1000G-BF-B', 'AG1000G-BF-C', 'AG1000G-CD', \n",
    "        'AG1000G-CF','AG1000G-CI', 'AG1000G-CM-A', 'AG1000G-CM-B', 'AG1000G-CM-C', \n",
    "        'AG1000G-FR', 'AG1000G-GA-A', 'AG1000G-GH', 'AG1000G-GM-A', 'AG1000G-GM-B', \n",
    "        'AG1000G-GM-C', 'AG1000G-GN-A', 'AG1000G-GN-B', 'AG1000G-GW', \n",
    "        'AG1000G-KE', 'AG1000G-ML-A', 'AG1000G-ML-B', 'AG1000G-MW', 'AG1000G-MZ', \n",
    "        'AG1000G-TZ', 'AG1000G-UG']\n",
    "df_samples = ag3.sample_metadata(sample_sets=sets)\n",
    "\n",
    "## Acces to the haplotypes \n",
    "df_hap = ag3.haplotypes(region=\"X\", analysis='gamb_colu_arab', sample_sets=sets)\n",
    "\n",
    "# samples phase \n",
    "samples_phased = df_hap['sample_id'].values\n",
    "df_samples_phased = df_samples.set_index(\"sample_id\").loc[samples_phased].reset_index()\n",
    "#df_samples_phased\n",
    "\n",
    "# Let's define the genome region where to locate the SNP\n",
    "# The AGAP000080 gene is located in the X chromosomes in the region ranging from 1283016 to 1373662\n",
    "hap_variant = df_hap['variant_position'].data\n",
    "hap_pos = allel.SortedIndex(hap_variant)\n",
    "\n",
    "#######\n",
    "loc_region = hap_pos.locate_range(1283016,1373662)\n",
    "#loc_region\n",
    "pos_loc = hap_pos[loc_region]\n",
    "\n",
    "## Cohort \n",
    "#cohort = \"species == 'coluzzii' or species == 'gambiae'\"\n",
    "#loc_samples = df_samples_phased.query(cohort).index.values\n",
    "Fru_haps = df_hap.sel(variants = loc_region)"
   ]
  },
  {
   "cell_type": "code",
   "execution_count": 5,
   "id": "d34bb131-6801-485d-843f-3b6ac1cc867a",
   "metadata": {},
   "outputs": [
    {
     "name": "stdout",
     "output_type": "stream",
     "text": [
      "\u001b[35mProcessing... \u001b[0m\n",
      "[########################################] | 100% Completed | 13.3s\n",
      "[########################################] | 100% Completed | 15.6s\n",
      "...\n",
      "\u001b[35mNumber of haplotypes = 5548.\n",
      "\u001b[35mHaplotype diversity = 0.9999591223404014.\n",
      "\u001b[35mdone... \u001b[0m\n"
     ]
    }
   ],
   "source": [
    "with ProgressBar():\n",
    "    print(Fore.MAGENTA + 'Processing...', Style.RESET_ALL)\n",
    "    gt_cohort = allel.GenotypeDaskArray(Fru_haps['call_genotype'].data)\n",
    "    gt_cohort_arr = allel.GenotypeArray(gt_cohort)\n",
    "    ht_cohort = allel.HaplotypeArray(gt_cohort.to_haplotypes())\n",
    "    print('...')\n",
    "    print(Fore.MAGENTA + f'Number of haplotypes = {ht_cohort.n_haplotypes}.')\n",
    "    print(Fore.MAGENTA + f'Haplotype diversity = {allel.haplotype_diversity(ht_cohort)}.')\n",
    "    print(Fore.MAGENTA + 'done...', Style.RESET_ALL)"
   ]
  },
  {
   "cell_type": "markdown",
   "id": "f426c849-bc94-4fb4-af41-9eab32572cda",
   "metadata": {
    "tags": []
   },
   "source": [
    "### Let's select multiple sample cohort within the data set and compute haplotype statistic \n",
    "Define population cohort, species cohort   \n",
    "Compute haplotype by cohort  \n",
    "Compute haplotype statistic   \n",
    "Warping haplotype statistic to make dataFrame "
   ]
  },
  {
   "cell_type": "code",
   "execution_count": 6,
   "id": "a928478c-38a6-4153-b2c1-ffdcff4dd7bf",
   "metadata": {},
   "outputs": [
    {
     "name": "stdout",
     "output_type": "stream",
     "text": [
      "done...\n"
     ]
    }
   ],
   "source": [
    "## Let's select multiple sample query within the data set\n",
    "## define pop \n",
    "pop_cohort = dict([(f\"{c} (An. {s})\", list(df.index)) for (c, s), df in df_samples_phased.groupby(['country_ISO', 'aim_species'])])\n",
    "sp_cohort = dict([(f\"An. {s}\", list(df.index)) for (s), df in df_samples_phased.groupby(['aim_species'])])\n",
    "\n",
    "# Haplotype dict \n",
    "haplo_dict, genotyp= {}, {}\n",
    "for key in pop_cohort.keys():\n",
    "    genotyp[key] = gt_cohort_arr.take(pop_cohort[key], axis=1)\n",
    "    haplo_dict[key] = allel.HaplotypeArray(genotyp[key].to_haplotypes())\n",
    "    #ihs_dict[key] = allel.ihs(haplo_dict[key][loc], pos = pos_loc, gap_scale=100, max_gap=1000)\n",
    "\n",
    "#Haplotypes statistics \n",
    "Hap_div, H1, H12, H123, H1_2 = {}, {}, {}, {}, {}\n",
    "for key in pop_cohort.keys():\n",
    "    Hap_div[key] = allel.moving_haplotype_diversity(haplo_dict[key], size=500, step=100)\n",
    "    H1[key], H12[key], H123[key], H1_2[key] = allel.moving_garud_h(haplo_dict[key], size=500, step=100)\n",
    "print('done...')"
   ]
  },
  {
   "cell_type": "code",
   "execution_count": 7,
   "id": "d2af7f7f-49a8-418a-aeff-fa1ac8c8e683",
   "metadata": {},
   "outputs": [
    {
     "name": "stdout",
     "output_type": "stream",
     "text": [
      "done...\n"
     ]
    }
   ],
   "source": [
    "## Warping to make dataFrame\n",
    "frame1, frame2, frame3, frame4, frame5, country_id = [], [], [], [], [], []\n",
    "for key in pop_cohort.keys():\n",
    "    if key.split(' (')[1] in ['An. coluzzii)', 'An. gambiae)', 'An. arabiensis)']:\n",
    "        for n in range(len(Hap_div[key])):\n",
    "            frame1.append(Hap_div[key][n])\n",
    "            frame2.append(H1[key][n])\n",
    "            frame3.append(H12[key][n])\n",
    "            frame4.append(H123[key][n])\n",
    "            frame5.append(H1_2[key][n])\n",
    "            country_id.append(key)\n",
    "Hap_stat = pd.DataFrame(list(zip(country_id, frame1)), columns =['country', 'H'])\n",
    "H1_tab = pd.DataFrame(list(zip(country_id, frame2)), columns =['country', 'H1'])\n",
    "H12_tab = pd.DataFrame(list(zip(country_id, frame3)), columns =['country', 'H12'])\n",
    "H123_tab = pd.DataFrame(list(zip(country_id, frame4)), columns =['country', 'H123'])\n",
    "H1_2_tab = pd.DataFrame(list(zip(country_id, frame5)), columns =['country', 'H1_2'])\n",
    "\n",
    "Hap_stat.insert(2, 'H1', list(H1_tab.H1))\n",
    "Hap_stat.insert(3, 'H12', list(H12_tab.H12))\n",
    "Hap_stat.insert(4, 'H123', list(H123_tab.H123))\n",
    "Hap_stat.insert(5, 'H1_2', list(H1_2_tab.H1_2))\n",
    "\n",
    "Hap_stat.to_csv('R/Hap_stat.csv') ## to be used in R for plotting\n",
    "Hap_stat \n",
    "\n",
    "#del frame1, frame2, frame3, frame4, frame5, country_id, H1_tab, H12_tab, H123_tab, H1_2_tab, Hap_div, H1, H12, H123, H1_2\n",
    "print('done...')"
   ]
  },
  {
   "cell_type": "markdown",
   "id": "c68963bd-d871-44bd-b960-56004bdb99f3",
   "metadata": {
    "tags": []
   },
   "source": [
    "## computing Linkage desequilibrium ####\n",
    "Import the Non-synonymous snp with max_al_freq > 0.05    \n",
    "Look for the same SNP position in the Haplotypes data   \n",
    "Selecting Haplotype    \n",
    "Calculate ld cor (r)    \n",
    "Defining function to plot allelic frequency, to calculate D' and ld, to plot ld       \n",
    "Calculating ld   "
   ]
  },
  {
   "cell_type": "code",
   "execution_count": 8,
   "id": "2df0dbaf-48e9-4a4c-9ed9-950db7e37f0f",
   "metadata": {},
   "outputs": [
    {
     "name": "stdout",
     "output_type": "stream",
     "text": [
      "18\n",
      "done...\n"
     ]
    }
   ],
   "source": [
    "## Import the Non-synonymous snp with max_al_freq > 0.05 \n",
    "snp_drop = pd.read_csv('R/Non_synonymous_snp_filt.csv')  \n",
    "snp_drop.rename({'Unnamed: 0': 'idx'}, axis=1, inplace=True)\n",
    "#snp_drop.head()\n",
    "\n",
    "## Look for the same SNP position in the Haplotypes data\n",
    "pos_indf = []\n",
    "for i in allel.SortedIndex(sorted(snp_drop.position)):\n",
    "    if i in pos_loc:\n",
    "        pos_indf.append(i)\n",
    "# Subseting the df \n",
    "snp_drop = snp_drop[snp_drop['position'].isin(pos_indf)]\n",
    "snpdrop_ptl = ptl.fromdataframe(snp_drop)\n",
    "dt = allel.SortedIndex(sorted(snp_drop.position))\n",
    "pos_dt = pos_loc.locate_keys(dt)\n",
    "#del pos_loc, pos_indf, dt\n",
    "print(np.count_nonzero(pos_dt))\n",
    "print('done...')"
   ]
  },
  {
   "cell_type": "code",
   "execution_count": 9,
   "id": "1d5800d4-b170-4845-8251-29301c6e24de",
   "metadata": {},
   "outputs": [
    {
     "name": "stdout",
     "output_type": "stream",
     "text": [
      "done...\n"
     ]
    }
   ],
   "source": [
    "## Haplotype selected \n",
    "hap_select = ht_cohort[pos_dt]\n",
    "#hap_select\n",
    "hgt = allel.GenotypeArray(gt_cohort)\n",
    "hgt = hgt[pos_dt].to_n_alt(fill=-1)\n",
    "print('done...')"
   ]
  },
  {
   "cell_type": "code",
   "execution_count": 10,
   "id": "a77ff221-9c2d-4499-ab3d-9f9c1089747d",
   "metadata": {},
   "outputs": [
    {
     "name": "stdout",
     "output_type": "stream",
     "text": [
      "done...\n"
     ]
    }
   ],
   "source": [
    "# Calculate ld cor (r)\n",
    "r = allel.rogers_huff_r(hgt)\n",
    "m = squareform(r**2)\n",
    "\n",
    "# defining colors \n",
    "col = plt.cm.get_cmap('PuBu', 128)\n",
    "col2 = sns.light_palette('darkblue', n_colors=30)\n",
    "print('done...')"
   ]
  },
  {
   "cell_type": "code",
   "execution_count": 11,
   "id": "a5d0954f-361a-4406-9254-a7653ce3d7d2",
   "metadata": {},
   "outputs": [],
   "source": [
    "# function to plot allelic frequency\n",
    "def plot_allele_af(ax=None, **kwargs):\n",
    "    n = len(snp_drop.max_af)\n",
    "    if ax is None:\n",
    "        fig, ax = plt.subplots(figsize=(7, 2))\n",
    "    left = np.arange(n) + 0.2\n",
    "    ax.bar(left, snp_drop.max_af, align='edge', width=0.4, **kwargs)\n",
    "    ax.set_ylabel('Allele frequency')\n",
    "    ax.set_xlim(0, n)\n",
    "    ax.set_xticks([])\n",
    "    #ax.set_yticks()\n",
    "    ax.set_xticklabels([])\n",
    "\n",
    "#plot_allele_af()"
   ]
  },
  {
   "cell_type": "code",
   "execution_count": 12,
   "id": "0d751325-3d58-45c4-8755-16eb2977df97",
   "metadata": {
    "tags": []
   },
   "outputs": [],
   "source": [
    "## function to calculate D' and ld\n",
    "def lewontin_d_prime(h, i, j, a=1, b=1):\n",
    "    \"\"\"Compute LD between a pair of alleles.\n",
    "    \n",
    "    Parameters\n",
    "    ----------\n",
    "    h : array\n",
    "        Haplotype array.\n",
    "    i : int\n",
    "        First variant index.\n",
    "    j : int\n",
    "        Second variant index.\n",
    "    a : int\n",
    "        First variant allele.\n",
    "    b : int\n",
    "        Second variant allele.\n",
    "    \n",
    "    Returns\n",
    "    -------\n",
    "    ld : float\n",
    "    \n",
    "    \"\"\"\n",
    "    \n",
    "    # setup\n",
    "    h = allel.HaplotypeArray(h)\n",
    "    n_a = n_b = 0  # allele counts\n",
    "    n_ab = 0  # haplotype counts\n",
    "    n = 0  # allele number (i.e., number of calls)\n",
    "    \n",
    "    # iterate over haplotypes, counting alleles and haplotypes\n",
    "    for k in range(h.n_haplotypes):\n",
    "        \n",
    "        # access alleles\n",
    "        allele_ik = h[i, k]\n",
    "        allele_jk = h[j, k]\n",
    "        \n",
    "        # only count if allele non-missing at both sites\n",
    "        if allele_ik < 0 or allele_jk < 0:\n",
    "            continue\n",
    "            \n",
    "        # accumulate\n",
    "        if allele_ik == a:\n",
    "            n_a += 1\n",
    "        if allele_jk == b:\n",
    "            n_b += 1\n",
    "        if allele_ik == a and allele_jk == b:\n",
    "            n_ab += 1\n",
    "        n += 1\n",
    "          \n",
    "    # bail out if no data or either allele is absent or fixed\n",
    "    if n == 0 or n_a == 0 or n_b == 0 or n == n_a or n == n_b:\n",
    "        return None\n",
    "    \n",
    "    # compute coefficient of linkage disequilibrium * n**2\n",
    "    D_ab = (n * n_ab) - (n_a * n_b)\n",
    "    \n",
    "    # compute normalisation coefficient * n**2\n",
    "    if D_ab >= 0:\n",
    "        D_max = min(n_a * (n - n_b), (n - n_a) * n_b)\n",
    "    else:\n",
    "        D_max = min(n_a * n_b, (n - n_a) * (n - n_b))\n",
    "\n",
    "    # compute D prime\n",
    "    D_prime = D_ab / D_max\n",
    "    \n",
    "    return D_prime\n",
    "\n",
    "\n",
    "def lewontin_d_prime_varloop(h):\n",
    "    n = len(h)\n",
    "    ld = np.zeros((n, n), dtype='f8')\n",
    "    for i,_ in enumerate(h):\n",
    "        for j,_ in enumerate(h):\n",
    "            if i != j:\n",
    "                ld[i, j] = lewontin_d_prime(h=h,i=i,j=j)\n",
    "    return(ld)"
   ]
  },
  {
   "cell_type": "markdown",
   "id": "e3d7cd28-33f3-4f0e-a91a-f2665ac60523",
   "metadata": {},
   "source": [
    "### Calculating ld"
   ]
  },
  {
   "cell_type": "code",
   "execution_count": 13,
   "id": "04000836-92d4-464e-8cce-4f0b17092796",
   "metadata": {},
   "outputs": [
    {
     "name": "stdout",
     "output_type": "stream",
     "text": [
      "done...\n"
     ]
    }
   ],
   "source": [
    "# Calculating ld\n",
    "ld_lewdp = lewontin_d_prime_varloop(hap_select)     \n",
    "\n",
    "# setting plot ax labels\n",
    "label_ld = ['%s:%s>%s %s' % (rec.position, rec.ref_allele, rec.alt_allele, rec['aa_change'].rjust(6))\n",
    "          for rec in snpdrop_ptl.records()]\n",
    "print('done...')"
   ]
  },
  {
   "cell_type": "markdown",
   "id": "b75b47c4-ad71-48e9-b4b5-8dce907291d6",
   "metadata": {},
   "source": [
    "### Plotting ld"
   ]
  },
  {
   "cell_type": "code",
   "execution_count": 14,
   "id": "2233ffa1-085e-47ab-9384-909c71a26644",
   "metadata": {},
   "outputs": [
    {
     "data": {
      "image/png": "[encoded data removed]",
      "text/plain": [
       "<Figure size 600x600 with 3 Axes>"
      ]
     },
     "metadata": {},
     "output_type": "display_data"
    }
   ],
   "source": [
    "def plot_ld():\n",
    "\n",
    "    fig = plt.figure(figsize=(5, 5), dpi=120)\n",
    "\n",
    "    gs = mpl.gridspec.GridSpec(2, 2, height_ratios=[2, 6], width_ratios=[7, .2])\n",
    "    \n",
    "    ax = fig.add_subplot(gs[0, 0])\n",
    "    sns.despine(ax=ax)\n",
    "    plot_allele_af(ax, color='k')\n",
    "    \n",
    "    ax = fig.add_subplot(gs[1, 0])\n",
    "    im = ax.pcolormesh(ld_lewdp, vmin=-1, vmax=1, cmap=col, shading='flat', edgecolors='gray', \n",
    "                       linewidths=.3, antialiased=True)\n",
    "\n",
    "    labels = ['%s:%s>%s%s' % (rec.position, rec.ref_allele, rec.alt_allele, rec['alt_codon'].rjust(4))\n",
    "          for rec in snpdrop_ptl.records()]\n",
    "    # ax.invert_yaxis()\n",
    "    ticks = np.arange(ld_lewdp.shape[0]) + .5\n",
    "    ax.set_xticks(ticks)\n",
    "    ax.set_yticks(ticks)\n",
    "    ax.set_xticklabels(labels, rotation=90, ha='center', va='top', fontdict=dict(family='monospace'))\n",
    "    ax.set_yticklabels(labels, rotation=0, va='center', ha='right', fontdict=dict(family='monospace'));\n",
    "    ax.set_xlim(0, ld_lewdp.shape[0])\n",
    "    ax.set_ylim(0, ld_lewdp.shape[0])\n",
    "    ax.xaxis.set_tick_params(length=0)\n",
    "    ax.yaxis.set_tick_params(length=0)\n",
    "    for i in range(ld_lewdp.shape[0] + 1):\n",
    "        ax.add_patch(plt.Rectangle((i-1, i-1), 1, 1, color='darkgray'))\n",
    "\n",
    "    cax = fig.add_subplot(gs[1, 1])\n",
    "    fig.colorbar(im, cax=cax)\n",
    "#    cax.set_title(\"Linkage disequilibrium (D')\", loc='left')\n",
    "    cax.set_ylabel(\"Linkage disequilibrium (D')\", va='top')\n",
    "\n",
    "    fig.tight_layout(pad=0.1)\n",
    "    fig.savefig('Graph/plot_ld', dpi=300, bbox_inches='tight')\n",
    "\n",
    "plot_ld()"
   ]
  },
  {
   "cell_type": "code",
   "execution_count": null,
   "id": "1c8b5524-34fb-427e-bcaf-94c2bcddbd2d",
   "metadata": {},
   "outputs": [],
   "source": []
  },
  {
   "cell_type": "code",
   "execution_count": null,
   "id": "fdd3bc58-d2a0-49aa-949c-e129d84ee452",
   "metadata": {},
   "outputs": [],
   "source": []
  },
  {
   "cell_type": "code",
   "execution_count": null,
   "id": "0538926c-4ebc-4b2e-bb59-53fc79170d2d",
   "metadata": {},
   "outputs": [],
   "source": []
  },
  {
   "cell_type": "code",
   "execution_count": null,
   "id": "dd2f83ef-3539-4dd1-8edf-59b76a88d369",
   "metadata": {},
   "outputs": [],
   "source": []
  },
  {
   "cell_type": "code",
   "execution_count": null,
   "id": "cb63d8c4-e0ff-406d-8d0e-06fe56efd648",
   "metadata": {},
   "outputs": [],
   "source": []
  },
  {
   "cell_type": "code",
   "execution_count": null,
   "id": "42af0797-4337-464e-8ea3-a6576c9d8633",
   "metadata": {},
   "outputs": [],
   "source": []
  },
  {
   "cell_type": "code",
   "execution_count": null,
   "id": "8c00e754-cbe0-446e-9b40-aadf3372b54f",
   "metadata": {},
   "outputs": [],
   "source": []
  }
 ],
 "metadata": {
  "kernelspec": {
   "display_name": "Python 3 (ipykernel)",
   "language": "python",
   "name": "python3"
  },
  "language_info": {
   "codemirror_mode": {
    "name": "ipython",
    "version": 3
   },
   "file_extension": ".py",
   "mimetype": "text/x-python",
   "name": "python",
   "nbconvert_exporter": "python",
   "pygments_lexer": "ipython3",
   "version": "3.8.12"
  }
 },
 "nbformat": 4,
 "nbformat_minor": 5
}
